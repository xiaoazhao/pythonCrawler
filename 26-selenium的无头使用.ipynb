{
 "cells": [
  {
   "cell_type": "code",
   "execution_count": 1,
   "metadata": {},
   "outputs": [
    {
     "ename": "ModuleNotFoundError",
     "evalue": "No module named 'selenium'",
     "output_type": "error",
     "traceback": [
      "\u001b[1;31m---------------------------------------------------------------------------\u001b[0m",
      "\u001b[1;31mModuleNotFoundError\u001b[0m                       Traceback (most recent call last)",
      "\u001b[1;32m<ipython-input-1-1a604394b3a6>\u001b[0m in \u001b[0;36m<module>\u001b[1;34m()\u001b[0m\n\u001b[1;32m----> 1\u001b[1;33m \u001b[1;32mfrom\u001b[0m \u001b[0mselenium\u001b[0m \u001b[1;32mimport\u001b[0m \u001b[0mwebdriver\u001b[0m\u001b[1;33m\u001b[0m\u001b[0m\n\u001b[0m\u001b[0;32m      2\u001b[0m \u001b[1;33m\u001b[0m\u001b[0m\n\u001b[0;32m      3\u001b[0m \u001b[1;31m# 实现自己输入搜索内容，然后自动点击\u001b[0m\u001b[1;33m\u001b[0m\u001b[1;33m\u001b[0m\u001b[0m\n\u001b[0;32m      4\u001b[0m \u001b[1;33m\u001b[0m\u001b[0m\n\u001b[0;32m      5\u001b[0m '''\n",
      "\u001b[1;31mModuleNotFoundError\u001b[0m: No module named 'selenium'"
     ]
    }
   ],
   "source": [
    "from selenium import webdriver\n",
    "\n",
    "# 实现自己输入搜索内容，然后自动点击\n",
    "\n",
    "'''\n",
    "什么是无头浏览器\n",
    "现在许多网站有反爬虫功能。我们要做的就是尽量把我们的请求伪装成是真正的浏览器发出的一样。\n",
    "最好就直接用浏览器来发送请求，比如使用WebDriver驱动浏览器模拟真人操作。\n",
    "但是这样速度太慢，再说服务器的linux一般都是server版的，根本没有桌面，因此也没有浏览器可用。\n",
    "所以我们就使用无头(headless)浏览器。功能跟真的浏览器一样，速度更快，只不过没有界面罢了。\n",
    "'''\n",
    "# chrome59版本以后可以变成无头的浏览器，加以下参数\n",
    "options = webdriver.ChromeOptions()\n",
    "options.add_argument('--headless')\n",
    "chrome = webdriver.Chrome(chrome_options=options)\n",
    "\n",
    "chrome = webdriver.Chrome()\n",
    "chrome.get('https://cn.bing.com/')\n",
    "# 搜索栏中输入了python\n",
    "chrome.find_element_by_id('sb_form_q').send_keys('python')\n",
    "# 点击搜索\n",
    "chrome.find_element_by_id('sb_form_go').click()\n",
    "\n",
    "html = chrome.page_source\n",
    "print(html)\n",
    "#chrome.quit()"
   ]
  },
  {
   "cell_type": "code",
   "execution_count": null,
   "metadata": {},
   "outputs": [],
   "source": []
  }
 ],
 "metadata": {
  "kernelspec": {
   "display_name": "Python 3",
   "language": "python",
   "name": "python3"
  },
  "language_info": {
   "codemirror_mode": {
    "name": "ipython",
    "version": 3
   },
   "file_extension": ".py",
   "mimetype": "text/x-python",
   "name": "python",
   "nbconvert_exporter": "python",
   "pygments_lexer": "ipython3",
   "version": "3.6.4"
  }
 },
 "nbformat": 4,
 "nbformat_minor": 2
}
