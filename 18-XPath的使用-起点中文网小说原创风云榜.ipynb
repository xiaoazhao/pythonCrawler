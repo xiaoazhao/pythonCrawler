{
 "cells": [
  {
   "cell_type": "code",
   "execution_count": 2,
   "metadata": {},
   "outputs": [
    {
     "name": "stdout",
     "output_type": "stream",
     "text": [
      "['诡秘之主', '龙王大人在上', '伏天氏', '沧元图', '明日之劫', '斗罗大陆IV终极斗罗', '全职法师', '咫尺之间人尽敌国', '万古最强宗', '我只想安静地打游戏', '大道朝天', '圣墟', '万古神帝', '凌天战尊', '召唤梦魇', '超神道术', '随身带个狩猎空间', '一人之力', '元尊', '牧神记']\n",
      "['爱潜水的乌贼', '雨魔', '净无痕', '我吃西红柿', '熊狼狗', '唐家三少', '乱', '乘风御剑', '江湖再见', '十二翼黑暗炽天使', '猫腻', '辰东', '飞天鱼', '风轻扬', '滚开', '当年烟火', '青空洗雨', '风消逝', '天蚕土豆', '宅猪']\n",
      "诡秘之主 : 爱潜水的乌贼\n",
      "龙王大人在上 : 雨魔\n",
      "伏天氏 : 净无痕\n",
      "沧元图 : 我吃西红柿\n",
      "明日之劫 : 熊狼狗\n",
      "斗罗大陆IV终极斗罗 : 唐家三少\n",
      "全职法师 : 乱\n",
      "咫尺之间人尽敌国 : 乘风御剑\n",
      "万古最强宗 : 江湖再见\n",
      "我只想安静地打游戏 : 十二翼黑暗炽天使\n",
      "大道朝天 : 猫腻\n",
      "圣墟 : 辰东\n",
      "万古神帝 : 飞天鱼\n",
      "凌天战尊 : 风轻扬\n",
      "召唤梦魇 : 滚开\n",
      "超神道术 : 当年烟火\n",
      "随身带个狩猎空间 : 青空洗雨\n",
      "一人之力 : 风消逝\n",
      "元尊 : 天蚕土豆\n",
      "牧神记 : 宅猪\n"
     ]
    }
   ],
   "source": [
    "from lxml import etree\n",
    "import requests\n",
    "from fake_useragent import UserAgent\n",
    "# Xpath 爬取起点中文网中小说类原创风云榜玄幻小说名称和作者\n",
    "# 再chrome中安装Xpath Helper插件\n",
    "\n",
    "'''\n",
    "1. 介绍\n",
    "    之前 BeautifulSoup 的用法，这个已经是非常强大的库了，不过还有一些比较流行的解析库，例如 lxml，使用的是 Xpath 语法，同样是效率比较高的解析方法。如果大家对 BeautifulSoup 使用不太习惯的话，可以尝试下 Xpath\n",
    "    官网 http://lxml.de/index.html\n",
    "    w3c http://www.w3school.com.cn/xpath/index.asp\n",
    "2. XPath语法\n",
    "    XPath 是一门在 XML 文档中查找信息的语言。XPath 可用来在 XML 文档中对元素和属性进行遍历。XPath 是 W3C XSLT 标准的主要元素，并且 XQuery 和 XPointer 都构建于 XPath 表达之上\n",
    "'''\n",
    "url = \"https://www.qidian.com/rank/yuepiao?chn=21\"\n",
    "headers = {\n",
    "    \"User-Agent\": UserAgent().chrome\n",
    "}\n",
    "response = requests.get(url, headers=headers)\n",
    "\n",
    "e = etree.HTML(response.text)\n",
    "# 获取小说名称，作者\n",
    "names = e.xpath('//h4/a/text()')\n",
    "authors = e.xpath('//p[@class=\"author\"]/a[1]/text()')\n",
    "print(names)\n",
    "print(authors)\n",
    "\n",
    "# 循环遍历1\n",
    "# for num in range(len(names)):\n",
    "#     print(names[num],\":\",authors[num])\n",
    "\n",
    "# 循环遍历2\n",
    "for name,author in zip(names,authors):\n",
    "    print(name,\":\",author)"
   ]
  },
  {
   "cell_type": "code",
   "execution_count": null,
   "metadata": {},
   "outputs": [],
   "source": []
  }
 ],
 "metadata": {
  "kernelspec": {
   "display_name": "Python 3",
   "language": "python",
   "name": "python3"
  },
  "language_info": {
   "codemirror_mode": {
    "name": "ipython",
    "version": 3
   },
   "file_extension": ".py",
   "mimetype": "text/x-python",
   "name": "python",
   "nbconvert_exporter": "python",
   "pygments_lexer": "ipython3",
   "version": "3.6.4"
  }
 },
 "nbformat": 4,
 "nbformat_minor": 2
}
