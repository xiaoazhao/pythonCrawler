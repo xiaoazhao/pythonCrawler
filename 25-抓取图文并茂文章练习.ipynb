{
 "cells": [
  {
   "cell_type": "code",
   "execution_count": 1,
   "metadata": {},
   "outputs": [],
   "source": [
    "import requests\n",
    "from fake_useragent import UserAgent\n",
    "from lxml import etree\n",
    "\n",
    "url = 'http://www.farmer.com.cn/xwpd/rdjj1/201807/t20180726_1393916.htm'\n",
    "headers = {\n",
    "    \"User-Agent\": UserAgent().chrome\n",
    "}\n",
    "response = requests.get(url, headers=headers)\n",
    "# print(response.text)\n",
    "\n",
    "# xpath解析\n",
    "e = etree.HTML(response.text)\n",
    "title = e.xpath('//h1/text()')\n",
    "# 内容由多个p组成,每个取出来，拼接成一个context\n",
    "all_p_tag = e.xpath('//div[@class=\"content\"]//p')\n",
    "content = [] #列表\n",
    "for p in all_p_tag:\n",
    "    info = p.xpath('string(.)')\n",
    "    content.append(info)\n",
    "# print(content)\n",
    "# 可以遍历url访问获取图片保存\n",
    "img_urls = e.xpath('//div[@class=\"content\"]//img/@src')\n",
    "# print(img_urls)\n",
    "# 多个图片名称:0 2 4是空串\n",
    "img_names = e.xpath('//div[@align=\"center\"]')\n",
    "for num in range(1,len(img_names),2):\n",
    "    img_name = img_names[num].xpath('string(.)')\n",
    "    # print(img_name)"
   ]
  },
  {
   "cell_type": "code",
   "execution_count": null,
   "metadata": {},
   "outputs": [],
   "source": []
  }
 ],
 "metadata": {
  "kernelspec": {
   "display_name": "Python 3",
   "language": "python",
   "name": "python3"
  },
  "language_info": {
   "codemirror_mode": {
    "name": "ipython",
    "version": 3
   },
   "file_extension": ".py",
   "mimetype": "text/x-python",
   "name": "python",
   "nbconvert_exporter": "python",
   "pygments_lexer": "ipython3",
   "version": "3.6.4"
  }
 },
 "nbformat": 4,
 "nbformat_minor": 2
}
