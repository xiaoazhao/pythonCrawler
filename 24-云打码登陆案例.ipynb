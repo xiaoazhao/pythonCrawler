{
 "cells": [
  {
   "cell_type": "code",
   "execution_count": 1,
   "metadata": {},
   "outputs": [
    {
     "ename": "ModuleNotFoundError",
     "evalue": "No module named 'day1'",
     "output_type": "error",
     "traceback": [
      "\u001b[1;31m---------------------------------------------------------------------------\u001b[0m",
      "\u001b[1;31mModuleNotFoundError\u001b[0m                       Traceback (most recent call last)",
      "\u001b[1;32m<ipython-input-1-34ee4057ebe8>\u001b[0m in \u001b[0;36m<module>\u001b[1;34m()\u001b[0m\n\u001b[0;32m      1\u001b[0m \u001b[1;32mimport\u001b[0m \u001b[0mrequests\u001b[0m\u001b[1;33m\u001b[0m\u001b[0m\n\u001b[0;32m      2\u001b[0m \u001b[1;32mfrom\u001b[0m \u001b[0mfake_useragent\u001b[0m \u001b[1;32mimport\u001b[0m \u001b[0mUserAgent\u001b[0m\u001b[1;33m\u001b[0m\u001b[0m\n\u001b[1;32m----> 3\u001b[1;33m \u001b[1;32mfrom\u001b[0m \u001b[0mday1\u001b[0m\u001b[1;33m.\u001b[0m\u001b[0mYDMPython3_Util\u001b[0m \u001b[1;32mimport\u001b[0m \u001b[0mget_code\u001b[0m\u001b[1;33m\u001b[0m\u001b[0m\n\u001b[0m\u001b[0;32m      4\u001b[0m \u001b[1;33m\u001b[0m\u001b[0m\n\u001b[0;32m      5\u001b[0m \u001b[1;31m# 自动获取验证码图片，通过云打码识别，然后自动登陆\u001b[0m\u001b[1;33m\u001b[0m\u001b[1;33m\u001b[0m\u001b[0m\n",
      "\u001b[1;31mModuleNotFoundError\u001b[0m: No module named 'day1'"
     ]
    }
   ],
   "source": [
    "import requests\n",
    "from fake_useragent import UserAgent\n",
    "from day1.YDMPython3_Util import get_code\n",
    "\n",
    "# 自动获取验证码图片，通过云打码识别，然后自动登陆\n",
    "\n",
    "# 登录\n",
    "def do_login(code):\n",
    "    login_url = 'http://www.yundama.com/index/login?'\n",
    "    f_data = {\n",
    "        \"username\": \"398707160_pt\",\n",
    "        \"password\": \"123456abc\",\n",
    "        \"utype\": \"1\",\n",
    "        \"vcode\": code\n",
    "    }\n",
    "    response = session.get(login_url, headers=headers, params=f_data)\n",
    "    print(response.text)\n",
    "\n",
    "# 获取验证码\n",
    "def get_image():\n",
    "    img_url = 'http://www.yundama.com/index/captcha'\n",
    "    response = session.get(img_url,headers=headers)\n",
    "    # 保存验证码图片\n",
    "    with open('ydm.jpg', 'wb') as f:\n",
    "        f.write(response.content)\n",
    "    filename = b'ydm.jpg'\n",
    "    code = get_code(filename)\n",
    "    return code.decode()\n",
    "\n",
    "# 模拟程序入口\n",
    "if __name__ == '__main__':\n",
    "    # 保证是一个回话，让服务器知道返回数据到哪里\n",
    "    session = requests.Session()\n",
    "    # 登录首页\n",
    "    index_url = 'http://www.yundama.com/'\n",
    "    headers = {\n",
    "        \"User-Agent\": UserAgent().chrome\n",
    "    }\n",
    "    response = session.get(index_url, headers=headers)\n",
    "    # 获取验证码\n",
    "    code = get_image()\n",
    "    # 登录\n",
    "    do_login(code)"
   ]
  },
  {
   "cell_type": "code",
   "execution_count": null,
   "metadata": {},
   "outputs": [],
   "source": []
  }
 ],
 "metadata": {
  "kernelspec": {
   "display_name": "Python 3",
   "language": "python",
   "name": "python3"
  },
  "language_info": {
   "codemirror_mode": {
    "name": "ipython",
    "version": 3
   },
   "file_extension": ".py",
   "mimetype": "text/x-python",
   "name": "python",
   "nbconvert_exporter": "python",
   "pygments_lexer": "ipython3",
   "version": "3.6.4"
  }
 },
 "nbformat": 4,
 "nbformat_minor": 2
}
