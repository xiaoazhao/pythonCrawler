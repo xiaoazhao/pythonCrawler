{
 "cells": [
  {
   "cell_type": "code",
   "execution_count": 1,
   "metadata": {},
   "outputs": [
    {
     "ename": "IndexError",
     "evalue": "list index out of range",
     "output_type": "error",
     "traceback": [
      "\u001b[1;31m---------------------------------------------------------------------------\u001b[0m",
      "\u001b[1;31mIndexError\u001b[0m                                Traceback (most recent call last)",
      "\u001b[1;32m<ipython-input-1-8d4fc03afb83>\u001b[0m in \u001b[0;36m<module>\u001b[1;34m()\u001b[0m\n\u001b[0;32m     58\u001b[0m \u001b[1;33m\u001b[0m\u001b[0m\n\u001b[0;32m     59\u001b[0m \u001b[1;32mif\u001b[0m \u001b[0m__name__\u001b[0m \u001b[1;33m==\u001b[0m \u001b[1;34m'__main__'\u001b[0m\u001b[1;33m:\u001b[0m\u001b[1;33m\u001b[0m\u001b[0m\n\u001b[1;32m---> 60\u001b[1;33m     \u001b[0mmain\u001b[0m\u001b[1;33m(\u001b[0m\u001b[1;33m)\u001b[0m\u001b[1;33m\u001b[0m\u001b[0m\n\u001b[0m",
      "\u001b[1;32m<ipython-input-1-8d4fc03afb83>\u001b[0m in \u001b[0;36mmain\u001b[1;34m()\u001b[0m\n\u001b[0;32m     54\u001b[0m     \u001b[1;32mfor\u001b[0m \u001b[0mmovie_url\u001b[0m \u001b[1;32min\u001b[0m \u001b[0mmovie_urls\u001b[0m\u001b[1;33m:\u001b[0m\u001b[1;33m\u001b[0m\u001b[0m\n\u001b[0;32m     55\u001b[0m         \u001b[0mmovie_html\u001b[0m \u001b[1;33m=\u001b[0m \u001b[0mget_html\u001b[0m\u001b[1;33m(\u001b[0m\u001b[0mmovie_url\u001b[0m\u001b[1;33m)\u001b[0m\u001b[1;33m\u001b[0m\u001b[0m\n\u001b[1;32m---> 56\u001b[1;33m         \u001b[0mmovie\u001b[0m \u001b[1;33m=\u001b[0m \u001b[0mparse_info\u001b[0m\u001b[1;33m(\u001b[0m\u001b[0mmovie_html\u001b[0m\u001b[1;33m)\u001b[0m\u001b[1;33m\u001b[0m\u001b[0m\n\u001b[0m\u001b[0;32m     57\u001b[0m         \u001b[0mprint\u001b[0m\u001b[1;33m(\u001b[0m\u001b[0mmovie\u001b[0m\u001b[1;33m)\u001b[0m\u001b[1;33m\u001b[0m\u001b[0m\n\u001b[0;32m     58\u001b[0m \u001b[1;33m\u001b[0m\u001b[0m\n",
      "\u001b[1;32m<ipython-input-1-8d4fc03afb83>\u001b[0m in \u001b[0;36mparse_info\u001b[1;34m(html)\u001b[0m\n\u001b[0;32m     29\u001b[0m \u001b[1;32mdef\u001b[0m \u001b[0mparse_info\u001b[0m\u001b[1;33m(\u001b[0m\u001b[0mhtml\u001b[0m\u001b[1;33m)\u001b[0m\u001b[1;33m:\u001b[0m\u001b[1;33m\u001b[0m\u001b[0m\n\u001b[0;32m     30\u001b[0m     \u001b[0me\u001b[0m \u001b[1;33m=\u001b[0m \u001b[0metree\u001b[0m\u001b[1;33m.\u001b[0m\u001b[0mHTML\u001b[0m\u001b[1;33m(\u001b[0m\u001b[0mhtml\u001b[0m\u001b[1;33m)\u001b[0m\u001b[1;33m\u001b[0m\u001b[0m\n\u001b[1;32m---> 31\u001b[1;33m     \u001b[0mname\u001b[0m \u001b[1;33m=\u001b[0m \u001b[0me\u001b[0m\u001b[1;33m.\u001b[0m\u001b[0mxpath\u001b[0m\u001b[1;33m(\u001b[0m\u001b[1;34m'//h3[@class=\"name\"]/text()'\u001b[0m\u001b[1;33m)\u001b[0m\u001b[1;33m[\u001b[0m\u001b[1;36m0\u001b[0m\u001b[1;33m]\u001b[0m \u001b[1;31m# 因为返回的是列表，所以取第一个\u001b[0m\u001b[1;33m\u001b[0m\u001b[0m\n\u001b[0m\u001b[0;32m     32\u001b[0m     \u001b[0mtypes\u001b[0m \u001b[1;33m=\u001b[0m \u001b[0me\u001b[0m\u001b[1;33m.\u001b[0m\u001b[0mxpath\u001b[0m\u001b[1;33m(\u001b[0m\u001b[1;34m'//li[@class=\"ellipsis\"][1]/text()'\u001b[0m\u001b[1;33m)\u001b[0m\u001b[1;33m[\u001b[0m\u001b[1;36m0\u001b[0m\u001b[1;33m]\u001b[0m\u001b[1;33m\u001b[0m\u001b[0m\n\u001b[0;32m     33\u001b[0m     \u001b[0mactors\u001b[0m \u001b[1;33m=\u001b[0m \u001b[0me\u001b[0m\u001b[1;33m.\u001b[0m\u001b[0mxpath\u001b[0m\u001b[1;33m(\u001b[0m\u001b[1;34m'//li[@class=\"celebrity actor\"]/div[@class=\"info\"]/a/text()'\u001b[0m\u001b[1;33m)\u001b[0m\u001b[1;33m\u001b[0m\u001b[0m\n",
      "\u001b[1;31mIndexError\u001b[0m: list index out of range"
     ]
    }
   ],
   "source": [
    "import requests\n",
    "from fake_useragent import UserAgent\n",
    "from lxml import etree\n",
    "from random import randint\n",
    "from time import sleep\n",
    "\n",
    "# 发送请求方法\n",
    "def get_html(url):\n",
    "    headers = {\n",
    "        \"User-Agent\": UserAgent().chrome\n",
    "    }\n",
    "    # 防止访问频率过高 ：随机睡眠\n",
    "    sleep(randint(3, 10))\n",
    "    response = requests.get(url, headers=headers)\n",
    "    response.encoding = 'utf-8'\n",
    "    if response.status_code == 200:\n",
    "        return response.text\n",
    "    else:\n",
    "        return None\n",
    "\n",
    "# 解析html(解析url),并返回每个电影的url\n",
    "def parse_index(html):\n",
    "    e = etree.HTML(html)\n",
    "    # 拿到每个电影的url\n",
    "    all_url = e.xpath('//div[@class=\"channel-detail movie-item-title\"]/a/@href')\n",
    "    return ['http://maoyan.com{}'.format(url) for url in all_url]\n",
    "\n",
    "# 解析单个电影的url内容:电影名，电影类型，演员\n",
    "def parse_info(html):\n",
    "    e = etree.HTML(html)\n",
    "    name = e.xpath('//h3[@class=\"name\"]/text()')[0] # 因为返回的是列表，所以取第一个\n",
    "    types = e.xpath('//li[@class=\"ellipsis\"][1]/text()')[0]\n",
    "    actors = e.xpath('//li[@class=\"celebrity actor\"]/div[@class=\"info\"]/a/text()')\n",
    "    actors = format_actors(actors)\n",
    "    # 返回一个字典\n",
    "    return {\n",
    "        \"name\": name,\n",
    "        \"types\": types,\n",
    "        \"actors\": actors\n",
    "    }\n",
    "\n",
    "# 处理演员：去重 也就是格式化\n",
    "def format_actors(actors):\n",
    "    actor_set = set()\n",
    "    for actor in actors:\n",
    "        actor_set.add(actor.strip()) # 去空格\n",
    "    return actor_set\n",
    "\n",
    "def main():\n",
    "    index_url = 'http://maoyan.com/films'\n",
    "    html = get_html(index_url)\n",
    "    movie_urls = parse_index(html)\n",
    "    # print(movie_urls)\n",
    "    for movie_url in movie_urls:\n",
    "        movie_html = get_html(movie_url)\n",
    "        movie = parse_info(movie_html)\n",
    "        print(movie)\n",
    "\n",
    "if __name__ == '__main__':\n",
    "    main()"
   ]
  },
  {
   "cell_type": "code",
   "execution_count": null,
   "metadata": {},
   "outputs": [],
   "source": []
  }
 ],
 "metadata": {
  "kernelspec": {
   "display_name": "Python 3",
   "language": "python",
   "name": "python3"
  },
  "language_info": {
   "codemirror_mode": {
    "name": "ipython",
    "version": 3
   },
   "file_extension": ".py",
   "mimetype": "text/x-python",
   "name": "python",
   "nbconvert_exporter": "python",
   "pygments_lexer": "ipython3",
   "version": "3.6.4"
  }
 },
 "nbformat": 4,
 "nbformat_minor": 2
}
