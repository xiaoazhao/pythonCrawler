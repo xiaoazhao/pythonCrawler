{
 "cells": [
  {
   "cell_type": "code",
   "execution_count": 1,
   "metadata": {},
   "outputs": [
    {
     "name": "stdout",
     "output_type": "stream",
     "text": [
      "['https://photo.tuchong.com/1485770/f/186187887.jpg', 'https://photo.tuchong.com/1485770/f/102957164.jpg', 'https://photo.tuchong.com/1485770/f/437583985.jpg', 'https://photo.tuchong.com/1485770/f/255262812.jpg', 'https://photo.tuchong.com/1485770/f/448856178.jpg', 'https://photo.tuchong.com/1485770/f/327811174.jpg', 'https://photo.tuchong.com/1485770/f/295370859.jpg', 'https://photo.tuchong.com/1485770/f/367198315.jpg', 'https://photo.tuchong.com/1485770/f/351010920.jpg', 'https://photo.tuchong.com/1485770/f/93978716.jpg', 'https://photo.tuchong.com/1485770/f/575799419.jpg', 'https://photo.tuchong.com/1485770/f/91553901.jpg', 'https://photo.tuchong.com/1485770/f/650248291.jpg', 'https://photo.tuchong.com/1485770/f/524681325.jpg', 'https://photo.tuchong.com/1485770/f/61276249.jpg', 'https://photo.tuchong.com/1485770/f/523567207.jpg', 'https://photo.tuchong.com/1485770/f/506265715.jpg', 'https://photo.tuchong.com/1485770/f/78512219.jpg', 'https://photo.tuchong.com/1485770/f/366215276.jpg', 'https://photo.tuchong.com/1485770/f/430375005.jpg', 'https://photo.tuchong.com/1485770/f/559415376.jpg', 'https://photo.tuchong.com/1485770/f/416481393.jpg']\n"
     ]
    },
    {
     "ename": "FileNotFoundError",
     "evalue": "[Errno 2] No such file or directory: 'img/186187887.jpg'",
     "output_type": "error",
     "traceback": [
      "\u001b[1;31m---------------------------------------------------------------------------\u001b[0m",
      "\u001b[1;31mFileNotFoundError\u001b[0m                         Traceback (most recent call last)",
      "\u001b[1;32m<ipython-input-1-819d0b4ac041>\u001b[0m in \u001b[0;36m<module>\u001b[1;34m()\u001b[0m\n\u001b[0;32m     15\u001b[0m     \u001b[0mresponse\u001b[0m \u001b[1;33m=\u001b[0m \u001b[0mrequests\u001b[0m\u001b[1;33m.\u001b[0m\u001b[0mget\u001b[0m\u001b[1;33m(\u001b[0m\u001b[0murl\u001b[0m\u001b[1;33m,\u001b[0m \u001b[0mheaders\u001b[0m\u001b[1;33m=\u001b[0m\u001b[1;33m{\u001b[0m\u001b[1;34m\"User-Agent\"\u001b[0m\u001b[1;33m:\u001b[0m \u001b[0mUserAgent\u001b[0m\u001b[1;33m(\u001b[0m\u001b[1;33m)\u001b[0m\u001b[1;33m.\u001b[0m\u001b[0mchrome\u001b[0m\u001b[1;33m}\u001b[0m\u001b[1;33m)\u001b[0m \u001b[1;31m# 根据每个图片的url得到图片\u001b[0m\u001b[1;33m\u001b[0m\u001b[0m\n\u001b[0;32m     16\u001b[0m     \u001b[0mimg_name\u001b[0m \u001b[1;33m=\u001b[0m \u001b[0murl\u001b[0m\u001b[1;33m[\u001b[0m\u001b[0murl\u001b[0m\u001b[1;33m.\u001b[0m\u001b[0mrfind\u001b[0m\u001b[1;33m(\u001b[0m\u001b[1;34m'/'\u001b[0m\u001b[1;33m)\u001b[0m\u001b[1;33m+\u001b[0m\u001b[1;36m1\u001b[0m\u001b[1;33m:\u001b[0m\u001b[1;33m]\u001b[0m     \u001b[1;31m# 修改下载下来的图片名称： 截取最后变得/后的图片名称\u001b[0m\u001b[1;33m\u001b[0m\u001b[0m\n\u001b[1;32m---> 17\u001b[1;33m     \u001b[1;32mwith\u001b[0m \u001b[0mopen\u001b[0m\u001b[1;33m(\u001b[0m\u001b[1;34m'img/'\u001b[0m\u001b[1;33m+\u001b[0m\u001b[0mimg_name\u001b[0m\u001b[1;33m,\u001b[0m \u001b[1;34m'wb'\u001b[0m\u001b[1;33m)\u001b[0m \u001b[1;32mas\u001b[0m \u001b[0mf\u001b[0m\u001b[1;33m:\u001b[0m \u001b[1;31m# img目录要存在\u001b[0m\u001b[1;33m\u001b[0m\u001b[0m\n\u001b[0m\u001b[0;32m     18\u001b[0m         \u001b[0mf\u001b[0m\u001b[1;33m.\u001b[0m\u001b[0mwrite\u001b[0m\u001b[1;33m(\u001b[0m\u001b[0mresponse\u001b[0m\u001b[1;33m.\u001b[0m\u001b[0mcontent\u001b[0m\u001b[1;33m)\u001b[0m\u001b[1;33m\u001b[0m\u001b[0m\n",
      "\u001b[1;31mFileNotFoundError\u001b[0m: [Errno 2] No such file or directory: 'img/186187887.jpg'"
     ]
    }
   ],
   "source": [
    "import requests\n",
    "from fake_useragent import UserAgent\n",
    "from lxml import etree\n",
    "\n",
    "# 爬取图虫网图片练习\n",
    "\n",
    "url = \"https://tuchong.com/1485770/19399344/#image351010920\"\n",
    "response = requests.get(url, headers={\"User-Agent\": UserAgent().chrome})\n",
    "e = etree.HTML(response.text)\n",
    "img_urls = e.xpath('//article/img/@src')\n",
    "\n",
    "print(img_urls)\n",
    "\n",
    "for url in img_urls:\n",
    "    response = requests.get(url, headers={\"User-Agent\": UserAgent().chrome}) # 根据每个图片的url得到图片\n",
    "    img_name = url[url.rfind('/')+1:]     # 修改下载下来的图片名称： 截取最后变得/后的图片名称\n",
    "    with open('img/'+img_name, 'wb') as f: # img目录要存在\n",
    "        f.write(response.content)"
   ]
  },
  {
   "cell_type": "code",
   "execution_count": null,
   "metadata": {},
   "outputs": [],
   "source": []
  }
 ],
 "metadata": {
  "kernelspec": {
   "display_name": "Python 3",
   "language": "python",
   "name": "python3"
  },
  "language_info": {
   "codemirror_mode": {
    "name": "ipython",
    "version": 3
   },
   "file_extension": ".py",
   "mimetype": "text/x-python",
   "name": "python",
   "nbconvert_exporter": "python",
   "pygments_lexer": "ipython3",
   "version": "3.6.4"
  }
 },
 "nbformat": 4,
 "nbformat_minor": 2
}
