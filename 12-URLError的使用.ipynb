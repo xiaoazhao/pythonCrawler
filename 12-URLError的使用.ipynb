{
 "cells": [
  {
   "cell_type": "code",
   "execution_count": 3,
   "metadata": {},
   "outputs": [
    {
     "name": "stdout",
     "output_type": "stream",
     "text": [
      "10060\n",
      "访问完成\n"
     ]
    }
   ],
   "source": [
    "from urllib.request import Request, urlopen\n",
    "from fake_useragent import UserAgent\n",
    "from urllib.error import URLError\n",
    "\n",
    "#  URLError的使用：在代码中，我们需要用try-except语句来包围并捕获相应的异常\n",
    "'''\n",
    " URLError\n",
    "首先解释下URLError可能产生的原因：\n",
    "- 网络无连接，即本机无法上网\n",
    "- 连接不到特定的服务器：login123\n",
    "- 服务器不存在：www.sxt123.cn\n",
    "'''\n",
    "\n",
    "url = \"http://www.sxt123.cn/index/login/login123\"\n",
    "\n",
    "headers = {\n",
    "    \"User-Agent\": UserAgent().chrome\n",
    "}\n",
    "try:\n",
    "    req = Request(url, headers=headers)\n",
    "    resp = urlopen(req)\n",
    "    print(resp.read().decode())\n",
    "except URLError as e:\n",
    "    if e.args == ():\n",
    "        print(e.code)\n",
    "    else:\n",
    "        print(e.args[0].errno)\n",
    "print(\"访问完成\")"
   ]
  },
  {
   "cell_type": "code",
   "execution_count": null,
   "metadata": {},
   "outputs": [],
   "source": []
  }
 ],
 "metadata": {
  "kernelspec": {
   "display_name": "Python 3",
   "language": "python",
   "name": "python3"
  },
  "language_info": {
   "codemirror_mode": {
    "name": "ipython",
    "version": 3
   },
   "file_extension": ".py",
   "mimetype": "text/x-python",
   "name": "python",
   "nbconvert_exporter": "python",
   "pygments_lexer": "ipython3",
   "version": "3.6.4"
  }
 },
 "nbformat": 4,
 "nbformat_minor": 2
}
