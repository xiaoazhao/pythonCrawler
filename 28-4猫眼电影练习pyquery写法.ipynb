{
 "cells": [
  {
   "cell_type": "code",
   "execution_count": 1,
   "metadata": {},
   "outputs": [
    {
     "ename": "ModuleNotFoundError",
     "evalue": "No module named 'pyquery'",
     "output_type": "error",
     "traceback": [
      "\u001b[1;31m---------------------------------------------------------------------------\u001b[0m",
      "\u001b[1;31mModuleNotFoundError\u001b[0m                       Traceback (most recent call last)",
      "\u001b[1;32m<ipython-input-1-aef2d31106b2>\u001b[0m in \u001b[0;36m<module>\u001b[1;34m()\u001b[0m\n\u001b[0;32m      3\u001b[0m \u001b[1;32mfrom\u001b[0m \u001b[0mrandom\u001b[0m \u001b[1;32mimport\u001b[0m \u001b[0mrandint\u001b[0m\u001b[1;33m\u001b[0m\u001b[0m\n\u001b[0;32m      4\u001b[0m \u001b[1;32mfrom\u001b[0m \u001b[0mtime\u001b[0m \u001b[1;32mimport\u001b[0m \u001b[0msleep\u001b[0m\u001b[1;33m\u001b[0m\u001b[0m\n\u001b[1;32m----> 5\u001b[1;33m \u001b[1;32mfrom\u001b[0m \u001b[0mpyquery\u001b[0m \u001b[1;32mimport\u001b[0m \u001b[0mPyQuery\u001b[0m \u001b[1;32mas\u001b[0m \u001b[0mpq\u001b[0m\u001b[1;33m\u001b[0m\u001b[0m\n\u001b[0m\u001b[0;32m      6\u001b[0m \u001b[1;33m\u001b[0m\u001b[0m\n\u001b[0;32m      7\u001b[0m \u001b[1;31m# 相比xpath方法只是修改了parse_index和parse_info，format_actors方法，解析方式不同\u001b[0m\u001b[1;33m\u001b[0m\u001b[1;33m\u001b[0m\u001b[0m\n",
      "\u001b[1;31mModuleNotFoundError\u001b[0m: No module named 'pyquery'"
     ]
    }
   ],
   "source": [
    "import requests\n",
    "from fake_useragent import UserAgent\n",
    "from random import randint\n",
    "from time import sleep\n",
    "from pyquery import PyQuery as pq\n",
    "\n",
    "# 相比xpath方法只是修改了parse_index和parse_info，format_actors方法，解析方式不同\n",
    "# 与bs4基本类似语法\n",
    "\n",
    "# 发送请求方法\n",
    "def get_html(url):\n",
    "    headers = {\n",
    "        \"User-Agent\": UserAgent().chrome\n",
    "    }\n",
    "    # 防止访问频率过高 ：随机睡眠\n",
    "    # sleep(randint(3, 10))\n",
    "    response = requests.get(url, headers=headers)\n",
    "    response.encoding = 'utf-8'\n",
    "    if response.status_code == 200:\n",
    "        return response.text\n",
    "    else:\n",
    "        return None\n",
    "\n",
    "# 解析html(解析url),并返回每个电影的url\n",
    "def parse_index(html):\n",
    "    doc = pq(html)\n",
    "    # 拿到每个电影的url\n",
    "    all_a = doc('.channel-detail.movie-item-title  a ')\n",
    "    all_url = []\n",
    "    # 每个a标签中的href属性添加到all_url\n",
    "    for a in all_a:\n",
    "        all_url.append(a.attrib['href'])\n",
    "    return ['http://maoyan.com{}'.format(url) for url in all_url]\n",
    "\n",
    "# 解析单个电影的url内容:电影名，电影类型，演员\n",
    "def parse_info(html):\n",
    "    doc = pq(html)\n",
    "    # 因为返回的是列表，所以取第一个\n",
    "    name = doc('h3.name')[0].text\n",
    "    types = doc('li.ellipsis')[0].text\n",
    "    actors = doc('li.celebrity.actor > div.info > a')\n",
    "\n",
    "    actors = format_actors(actors)\n",
    "    # 返回一个字典\n",
    "    return {\n",
    "        \"name\": name,\n",
    "        \"types\": types,\n",
    "        \"actors\": actors\n",
    "    }\n",
    "\n",
    "# 处理演员：去重 也就是格式化\n",
    "def format_actors(actors):\n",
    "    actor_set = set()\n",
    "    for actor in actors:\n",
    "        actor_set.add(actor.text.strip()) # 去空格\n",
    "    return actor_set\n",
    "\n",
    "def main():\n",
    "    index_url = 'http://maoyan.com/films'\n",
    "    html = get_html(index_url)\n",
    "    movie_urls = parse_index(html)\n",
    "    # print(movie_urls)\n",
    "    for movie_url in movie_urls:\n",
    "        movie_html = get_html(movie_url)\n",
    "        movie = parse_info(movie_html)\n",
    "        print(movie)\n",
    "\n",
    "if __name__ == '__main__':\n",
    "    main()"
   ]
  },
  {
   "cell_type": "code",
   "execution_count": null,
   "metadata": {},
   "outputs": [],
   "source": []
  }
 ],
 "metadata": {
  "kernelspec": {
   "display_name": "Python 3",
   "language": "python",
   "name": "python3"
  },
  "language_info": {
   "codemirror_mode": {
    "name": "ipython",
    "version": 3
   },
   "file_extension": ".py",
   "mimetype": "text/x-python",
   "name": "python",
   "nbconvert_exporter": "python",
   "pygments_lexer": "ipython3",
   "version": "3.6.4"
  }
 },
 "nbformat": 4,
 "nbformat_minor": 2
}
