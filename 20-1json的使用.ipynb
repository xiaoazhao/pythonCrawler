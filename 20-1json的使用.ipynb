{
 "cells": [
  {
   "cell_type": "code",
   "execution_count": 1,
   "metadata": {},
   "outputs": [
    {
     "name": "stdout",
     "output_type": "stream",
     "text": [
      "<class 'str'>\n",
      "<class 'dict'>\n",
      "<class 'str'> : {\"name\": \"盗梦空间\"}\n"
     ]
    }
   ],
   "source": [
    "import json\n",
    "\n",
    "str = '{\"name\":\"盗梦空间\"}'\n",
    "print(type(str))\n",
    "\n",
    "# 字典转换为json对象\n",
    "'''json.loads():把Json格式字符串解码转换成Python对象 '''\n",
    "obj = json.loads(str)\n",
    "print(type(obj))\n",
    "\n",
    "# json对象转换回来\n",
    "''' json.dumps():从python原始类型向json类型 '''\n",
    "str2 = json.dumps(obj, ensure_ascii=False) # ensure_ascii=False 乱码转换为中文\n",
    "print(type(str2), \":\", str2)\n",
    "\n",
    "# json对象写为文件\n",
    "'''json.dump():将Python内置类型序列化为json对象后写入文件 '''\n",
    "json.dump(obj, open(\"20movie.txt\", 'w',encoding='utf-8'),ensure_ascii=False)\n",
    "\n",
    "# 读取文件为python类型\n",
    "''' json.load():读取文件中json形式的字符串元素 转化成python类型'''\n",
    "str3 = json.load(open('20movie.txt'))"
   ]
  },
  {
   "cell_type": "code",
   "execution_count": null,
   "metadata": {},
   "outputs": [],
   "source": []
  }
 ],
 "metadata": {
  "kernelspec": {
   "display_name": "Python 3",
   "language": "python",
   "name": "python3"
  },
  "language_info": {
   "codemirror_mode": {
    "name": "ipython",
    "version": 3
   },
   "file_extension": ".py",
   "mimetype": "text/x-python",
   "name": "python",
   "nbconvert_exporter": "python",
   "pygments_lexer": "ipython3",
   "version": "3.6.4"
  }
 },
 "nbformat": 4,
 "nbformat_minor": 2
}
