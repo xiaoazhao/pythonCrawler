{
 "cells": [
  {
   "cell_type": "code",
   "execution_count": 1,
   "metadata": {},
   "outputs": [
    {
     "ename": "ModuleNotFoundError",
     "evalue": "No module named 'pyquery'",
     "output_type": "error",
     "traceback": [
      "\u001b[1;31m---------------------------------------------------------------------------\u001b[0m",
      "\u001b[1;31mModuleNotFoundError\u001b[0m                       Traceback (most recent call last)",
      "\u001b[1;32m<ipython-input-1-ff177f817988>\u001b[0m in \u001b[0;36m<module>\u001b[1;34m()\u001b[0m\n\u001b[1;32m----> 1\u001b[1;33m \u001b[1;32mfrom\u001b[0m \u001b[0mpyquery\u001b[0m \u001b[1;32mimport\u001b[0m \u001b[0mPyQuery\u001b[0m \u001b[1;32mas\u001b[0m \u001b[0mpq\u001b[0m\u001b[1;33m\u001b[0m\u001b[0m\n\u001b[0m\u001b[0;32m      2\u001b[0m \u001b[1;32mimport\u001b[0m \u001b[0mrequests\u001b[0m\u001b[1;33m\u001b[0m\u001b[0m\n\u001b[0;32m      3\u001b[0m \u001b[1;32mfrom\u001b[0m \u001b[0mfake_useragent\u001b[0m \u001b[1;32mimport\u001b[0m \u001b[0mUserAgent\u001b[0m\u001b[1;33m\u001b[0m\u001b[0m\n\u001b[0;32m      4\u001b[0m \u001b[1;33m\u001b[0m\u001b[0m\n\u001b[0;32m      5\u001b[0m \u001b[1;31m# pyquery 使用爬取西刺代理的ip\u001b[0m\u001b[1;33m\u001b[0m\u001b[1;33m\u001b[0m\u001b[0m\n",
      "\u001b[1;31mModuleNotFoundError\u001b[0m: No module named 'pyquery'"
     ]
    }
   ],
   "source": [
    "from pyquery import PyQuery as pq\n",
    "import requests\n",
    "from fake_useragent import UserAgent\n",
    "\n",
    "# pyquery 使用爬取西刺代理的ip\n",
    "'''\n",
    " pyquery\n",
    "  介绍\n",
    "如果你对CSS选择器与Jquery有有所了解，那么还有个解析库可以适合你--Jquery\n",
    "官网https://pythonhosted.org/pyquery/\n",
    "'''\n",
    "\n",
    "url = \"https://www.xicidaili.com/\"\n",
    "headers = {\n",
    "    \"User-Agent\": UserAgent().chrome\n",
    "}\n",
    "response = requests.get(url,headers=headers)\n",
    "doc = pq(response.text)\n",
    "trs = doc('#ip_list tr') # 得到tr列表元素\n",
    "for num in range(1,len(trs)): # 遍历每个tr,取出存取ip的td中的ip内容 eq是选择并列标签中的第几个\n",
    "    ip = trs.eq(num).find('td').eq(1).text()\n",
    "    port = trs.eq(num).find('td').eq(2).text()\n",
    "    type_h = trs.eq(num).find('td').eq(5).text()\n",
    "    print(ip, \":\", port, \":\", type_h)"
   ]
  },
  {
   "cell_type": "code",
   "execution_count": null,
   "metadata": {},
   "outputs": [],
   "source": []
  }
 ],
 "metadata": {
  "kernelspec": {
   "display_name": "Python 3",
   "language": "python",
   "name": "python3"
  },
  "language_info": {
   "codemirror_mode": {
    "name": "ipython",
    "version": 3
   },
   "file_extension": ".py",
   "mimetype": "text/x-python",
   "name": "python",
   "nbconvert_exporter": "python",
   "pygments_lexer": "ipython3",
   "version": "3.6.4"
  }
 },
 "nbformat": 4,
 "nbformat_minor": 2
}
