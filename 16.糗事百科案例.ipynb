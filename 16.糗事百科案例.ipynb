{
 "cells": [
  {
   "cell_type": "code",
   "execution_count": 2,
   "metadata": {},
   "outputs": [
    {
     "name": "stdout",
     "output_type": "stream",
     "text": [
      "[]\n"
     ]
    }
   ],
   "source": [
    "import requests\n",
    "import re\n",
    "from fake_useragent import UserAgent\n",
    "\n",
    "url = \"https://www.qiushibaike.com/text/page/2/\"\n",
    "headers = {\n",
    "    \"User-Agent\": UserAgent().chrome\n",
    "}\n",
    "# 构造请求\n",
    "response = requests.get(url, headers=headers)\n",
    "info = response.text\n",
    "# print(info)\n",
    "\n",
    "# 匹配其中的内容 <div class=\"content\">\\s*<span>\\s*（.+）\\s*</span>\n",
    "# infos = re.findall(r'', info) # 这里加入断点进行调试，再菜单栏中找到类似计算机的图标进行测试：（输入：re.findall(r'<div class=\"content\">\\s*<span>\\s*(.+)\\s*</span>',info)）# \\s 匹配任意空白字符，等价于 [\\t\\n\\r\\f]. \\s* 换行\n",
    "infos = re.findall(r'<div class=\"content\">\\s*<span>\\s*(.+)\\s*</span>',info)\n",
    "print(infos)\n",
    "\n",
    "# 保存到文件中\n",
    "with open('16duanzi.txt','w',encoding='utf-8') as f:\n",
    "    for info in infos:\n",
    "        f.write(info + \"\\n\\n\\n\")"
   ]
  },
  {
   "cell_type": "code",
   "execution_count": null,
   "metadata": {},
   "outputs": [],
   "source": []
  }
 ],
 "metadata": {
  "kernelspec": {
   "display_name": "Python 3",
   "language": "python",
   "name": "python3"
  },
  "language_info": {
   "codemirror_mode": {
    "name": "ipython",
    "version": 3
   },
   "file_extension": ".py",
   "mimetype": "text/x-python",
   "name": "python",
   "nbconvert_exporter": "python",
   "pygments_lexer": "ipython3",
   "version": "3.6.4"
  }
 },
 "nbformat": 4,
 "nbformat_minor": 2
}
