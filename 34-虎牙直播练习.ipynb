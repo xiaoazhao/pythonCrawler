{
 "cells": [
  {
   "cell_type": "code",
   "execution_count": 1,
   "metadata": {},
   "outputs": [
    {
     "ename": "ModuleNotFoundError",
     "evalue": "No module named 'selenium'",
     "output_type": "error",
     "traceback": [
      "\u001b[1;31m---------------------------------------------------------------------------\u001b[0m",
      "\u001b[1;31mModuleNotFoundError\u001b[0m                       Traceback (most recent call last)",
      "\u001b[1;32m<ipython-input-1-89ecf9b10658>\u001b[0m in \u001b[0;36m<module>\u001b[1;34m()\u001b[0m\n\u001b[1;32m----> 1\u001b[1;33m \u001b[1;32mfrom\u001b[0m \u001b[0mselenium\u001b[0m \u001b[1;32mimport\u001b[0m \u001b[0mwebdriver\u001b[0m\u001b[1;33m\u001b[0m\u001b[0m\n\u001b[0m\u001b[0;32m      2\u001b[0m \u001b[1;32mfrom\u001b[0m \u001b[0mtime\u001b[0m \u001b[1;32mimport\u001b[0m \u001b[0msleep\u001b[0m\u001b[1;33m\u001b[0m\u001b[0m\n\u001b[0;32m      3\u001b[0m \u001b[1;31m# 使用selenium爬取虎牙直播中lol直播模块的主播名和观看人数\u001b[0m\u001b[1;33m\u001b[0m\u001b[1;33m\u001b[0m\u001b[0m\n\u001b[0;32m      4\u001b[0m \u001b[1;33m\u001b[0m\u001b[0m\n\u001b[0;32m      5\u001b[0m \u001b[0mdriver\u001b[0m \u001b[1;33m=\u001b[0m \u001b[0mwebdriver\u001b[0m\u001b[1;33m.\u001b[0m\u001b[0mChrome\u001b[0m\u001b[1;33m(\u001b[0m\u001b[1;33m)\u001b[0m\u001b[1;33m\u001b[0m\u001b[0m\n",
      "\u001b[1;31mModuleNotFoundError\u001b[0m: No module named 'selenium'"
     ]
    }
   ],
   "source": [
    "from selenium import webdriver\n",
    "from time import sleep\n",
    "# 使用selenium爬取虎牙直播中lol直播模块的主播名和观看人数\n",
    "\n",
    "driver = webdriver.Chrome()\n",
    "url = 'https://www.huya.com/g/lol'\n",
    "driver.get(url)\n",
    "num = 1\n",
    "while True:\n",
    "    print('第' + str(num) + \"页----------------------------------------------\")\n",
    "    num += 1\n",
    "    sleep(5) # 防止页面没有加载出来，就获取页面\n",
    "    html = driver.page_source\n",
    "    names = driver.find_elements_by_xpath('//i[@class=\"nick\"]')\n",
    "    counts = driver.find_elements_by_xpath('//i[@class=\"js-num\"]')\n",
    "   #driver.find_element_by_xpath('//a[@class=\"laypage_nasda\"]').click()\n",
    "    for name, count in zip(names, counts):\n",
    "        print(name.text, \":\", count.text)\n",
    "    if driver.page_source.find('laypage_next') != -1:\n",
    "        driver.find_element_by_xpath('//a[@class=\"laypage_next\"]').click()\n",
    "    else:\n",
    "        break\n",
    "driver.quit()"
   ]
  },
  {
   "cell_type": "code",
   "execution_count": null,
   "metadata": {},
   "outputs": [],
   "source": []
  }
 ],
 "metadata": {
  "kernelspec": {
   "display_name": "Python 3",
   "language": "python",
   "name": "python3"
  },
  "language_info": {
   "codemirror_mode": {
    "name": "ipython",
    "version": 3
   },
   "file_extension": ".py",
   "mimetype": "text/x-python",
   "name": "python",
   "nbconvert_exporter": "python",
   "pygments_lexer": "ipython3",
   "version": "3.6.4"
  }
 },
 "nbformat": 4,
 "nbformat_minor": 2
}
