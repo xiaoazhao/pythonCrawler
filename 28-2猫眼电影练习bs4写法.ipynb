{
 "cells": [
  {
   "cell_type": "code",
   "execution_count": 1,
   "metadata": {},
   "outputs": [
    {
     "name": "stdout",
     "output_type": "stream",
     "text": [
      "{'name': '少年的你', 'types': '爱情,青春,剧情', 'actors': {'吴越', '周也', '尹昉', '张耀', '黄觉', '周冬雨', '易烊千玺', '赵润南', '张艺凡'}}\n",
      "{'name': '航海王：狂热行动', 'types': '动画,冒险', 'actors': {'大友龙三郎', '龙田直树', '龙梦柔', '伊藤加奈惠', '松冈洋子', '津嘉山正种', '滨田贤二', '大塚明夫', '矶部勉', '土井美加', '长岛雄一', '中友子', '伊仓一惠', '置鲇龙太郎', '真殿光昭', '服卷浩司', '花田光', '小山刚志', '中井和哉', '宝龟克寿', '矢尾一树', '平田广明', '大场真人', '森久保祥太郎', '关智一', '山口由里子', '高冢正也', '永野广一', '桧山修之', '平井启二', '大谷育江', '大川透', '指原莉乃', '加濑康之', '山里亮太', '楠大典', '太田真一郎', '冈村明美', '浪川大辅', '千叶繁', '宗矢树赖', '园部启一', '三石琴乃', '岛田敏', '田中真弓', '挂川裕彦', '竹中直人', '古谷彻', '野田顺子', '中博史', '古川登志夫', '神谷浩史', '山本凉介', '西原久美子', '高木礼子', '石田彰', '泽木郁也', '竹本英史', '立木文彦', '中山裕介', '山口胜平'}}\n",
      "{'name': '哪吒之魔童降世', 'types': '动画,喜剧,奇幻', 'actors': {'囧森瑟夫', '任俊鹏', '张珈铭', '何禹祥', '杏林儿', '瀚墨', '李南', '杨卫', '陈浩', '绿绮', '吕艳婷'}}\n",
      "{'name': '中国机长', 'types': '剧情,传记', 'actors': {'欧豪', '余皑磊', 'Alex Pychtin', '杜江', '焦俊艳', '周波', '张天爱', '李现', '阚清子', '陈数', '袁泉', '李岷城', '朱亚文', '小爱', '冯文娟', '杨颖', '高戈', '杨祺如', '吴樾', '黄志忠', '李沁', '雅玫', '张涵予', '张磊'}}\n",
      "{'name': '沉睡魔咒2', 'types': '冒险,家庭,奇幻', 'actors': {'安吉丽娜·朱莉', '石原贵雅', '朱诺·坦普尔', 'Fernanda Diniz', '亚历克斯·马丁', '艾美达·斯丹顿', '米歇尔·菲佛', '耶斯·利奥丹', '切瓦特·埃加福特', 'Anthony Kaye', '大卫·吉亚西', '艾德·斯克林', '汤姆·伯宁顿', '拉塞尔·巴洛格', 'Richard Keep', '萨姆·赖利', '拉亚·坎普贝尔', '斯嘉丽·格兰特', '哈里斯·迪金森', '约翰·卡鲁', '特蕾莎·马奥尼', '莱丝利·曼维尔', '伯纳多·桑托斯', '朱迪斯·沙克妮', '阿克塞尔·努', '詹·穆瑞', '萨克·霍兰', '罗伯特·林德森', '加绘·亚历山大', '弗莱迪·怀斯', '艾丽·范宁', 'Mark Knightley', '巴里·艾尔德'}}\n",
      "{'name': '我和我的祖国', 'types': '剧情', 'actors': {'郎平', '成家骥', '马书良', '欧豪', '宋佳', '孙亮', '马伊琍', '周冬雨', '雷佳音', '佟丽娅', '张铂辰', '吴京', '段博文', '魏晨', '梁静', '张嘉译', '郭丞', '黄渤', '刘昊然', '张子枫', '贾晨飞', '惠英红', '程禹森', '张圣岳', '徐峥', '宋楠惜', '景海鹏', '辛柏青', '郭晓小', '梁缘', '程枫', '陶虹', '韩东君', '牛犇', '韩笑', '周依然', '韩昊霖', '王千源', '田壮壮', '刘涛', '朱一龙', '高亚麟', '王洛勇', '任素汐', '河国荣', '龚蓓苾', '张芝华', '杨根和', '邵汶', '张建亚', '彭昱畅', '罗海琼', '张耀宇', '佟大为', '王道铁', '陈冬', '耿乐', '徐玉兰', '王天辰', '甘昀宸', '王东', '葛优', '李翰臣', '葛奕德', '陈飞宇', '姜武', '郭京飞', '张译', '任达华', '王砚辉', '胡军', '樊雨洁', '袁文康', '杜江', '江珊'}}\n",
      "{'name': '攀登者', 'types': '剧情,冒险', 'actors': {'王景春', '胡歌', '刘小锋', '多布杰', '井柏然', '何琳', '张译', '吴京', '曲尼次仁', '成龙', '章子怡', '陈龙', '拉旺罗布'}}\n"
     ]
    },
    {
     "ename": "IndexError",
     "evalue": "list index out of range",
     "output_type": "error",
     "traceback": [
      "\u001b[1;31m---------------------------------------------------------------------------\u001b[0m",
      "\u001b[1;31mIndexError\u001b[0m                                Traceback (most recent call last)",
      "\u001b[1;32m<ipython-input-1-feb283375820>\u001b[0m in \u001b[0;36m<module>\u001b[1;34m()\u001b[0m\n\u001b[0;32m     67\u001b[0m \u001b[1;33m\u001b[0m\u001b[0m\n\u001b[0;32m     68\u001b[0m \u001b[1;32mif\u001b[0m \u001b[0m__name__\u001b[0m \u001b[1;33m==\u001b[0m \u001b[1;34m'__main__'\u001b[0m\u001b[1;33m:\u001b[0m\u001b[1;33m\u001b[0m\u001b[0m\n\u001b[1;32m---> 69\u001b[1;33m     \u001b[0mmain\u001b[0m\u001b[1;33m(\u001b[0m\u001b[1;33m)\u001b[0m\u001b[1;33m\u001b[0m\u001b[0m\n\u001b[0m",
      "\u001b[1;32m<ipython-input-1-feb283375820>\u001b[0m in \u001b[0;36mmain\u001b[1;34m()\u001b[0m\n\u001b[0;32m     63\u001b[0m     \u001b[1;32mfor\u001b[0m \u001b[0mmovie_url\u001b[0m \u001b[1;32min\u001b[0m \u001b[0mmovie_urls\u001b[0m\u001b[1;33m:\u001b[0m\u001b[1;33m\u001b[0m\u001b[0m\n\u001b[0;32m     64\u001b[0m         \u001b[0mmovie_html\u001b[0m \u001b[1;33m=\u001b[0m \u001b[0mget_html\u001b[0m\u001b[1;33m(\u001b[0m\u001b[0mmovie_url\u001b[0m\u001b[1;33m)\u001b[0m\u001b[1;33m\u001b[0m\u001b[0m\n\u001b[1;32m---> 65\u001b[1;33m         \u001b[0mmovie\u001b[0m \u001b[1;33m=\u001b[0m \u001b[0mparse_info\u001b[0m\u001b[1;33m(\u001b[0m\u001b[0mmovie_html\u001b[0m\u001b[1;33m)\u001b[0m\u001b[1;33m\u001b[0m\u001b[0m\n\u001b[0m\u001b[0;32m     66\u001b[0m         \u001b[0mprint\u001b[0m\u001b[1;33m(\u001b[0m\u001b[0mmovie\u001b[0m\u001b[1;33m)\u001b[0m\u001b[1;33m\u001b[0m\u001b[0m\n\u001b[0;32m     67\u001b[0m \u001b[1;33m\u001b[0m\u001b[0m\n",
      "\u001b[1;32m<ipython-input-1-feb283375820>\u001b[0m in \u001b[0;36mparse_info\u001b[1;34m(html)\u001b[0m\n\u001b[0;32m     37\u001b[0m     \u001b[1;31m# 因为返回的是列表，所以取第一个\u001b[0m\u001b[1;33m\u001b[0m\u001b[1;33m\u001b[0m\u001b[0m\n\u001b[0;32m     38\u001b[0m     \u001b[0msoup\u001b[0m \u001b[1;33m=\u001b[0m \u001b[0mBeautifulSoup\u001b[0m\u001b[1;33m(\u001b[0m\u001b[0mhtml\u001b[0m\u001b[1;33m,\u001b[0m \u001b[1;34m'lxml'\u001b[0m\u001b[1;33m)\u001b[0m\u001b[1;33m\u001b[0m\u001b[0m\n\u001b[1;32m---> 39\u001b[1;33m     \u001b[0mname\u001b[0m \u001b[1;33m=\u001b[0m \u001b[0msoup\u001b[0m\u001b[1;33m.\u001b[0m\u001b[0mselect\u001b[0m\u001b[1;33m(\u001b[0m\u001b[1;34m'h3.name'\u001b[0m\u001b[1;33m)\u001b[0m\u001b[1;33m[\u001b[0m\u001b[1;36m0\u001b[0m\u001b[1;33m]\u001b[0m\u001b[1;33m.\u001b[0m\u001b[0mtext\u001b[0m\u001b[1;33m\u001b[0m\u001b[0m\n\u001b[0m\u001b[0;32m     40\u001b[0m     \u001b[0mtypes\u001b[0m \u001b[1;33m=\u001b[0m \u001b[0msoup\u001b[0m\u001b[1;33m.\u001b[0m\u001b[0mselect\u001b[0m\u001b[1;33m(\u001b[0m\u001b[1;34m'li.ellipsis'\u001b[0m\u001b[1;33m)\u001b[0m\u001b[1;33m[\u001b[0m\u001b[1;36m0\u001b[0m\u001b[1;33m]\u001b[0m\u001b[1;33m.\u001b[0m\u001b[0mtext\u001b[0m\u001b[1;33m\u001b[0m\u001b[0m\n\u001b[0;32m     41\u001b[0m     \u001b[0mactors\u001b[0m \u001b[1;33m=\u001b[0m \u001b[0msoup\u001b[0m\u001b[1;33m.\u001b[0m\u001b[0mselect\u001b[0m\u001b[1;33m(\u001b[0m\u001b[1;34m'li.celebrity.actor > div.info > a'\u001b[0m\u001b[1;33m)\u001b[0m\u001b[1;33m\u001b[0m\u001b[0m\n",
      "\u001b[1;31mIndexError\u001b[0m: list index out of range"
     ]
    }
   ],
   "source": [
    "import requests\n",
    "from fake_useragent import UserAgent\n",
    "from random import randint\n",
    "from time import sleep\n",
    "from bs4 import BeautifulSoup\n",
    "\n",
    "# 相比xpath方法只是修改了parse_index和parse_info，format_actors方法，解析方式不同\n",
    "\n",
    "# 发送请求方法\n",
    "def get_html(url):\n",
    "    headers = {\n",
    "        \"User-Agent\": UserAgent().chrome\n",
    "    }\n",
    "    # 防止访问频率过高 ：随机睡眠\n",
    "    # sleep(randint(3, 10))\n",
    "    response = requests.get(url, headers=headers)\n",
    "    response.encoding = 'utf-8'\n",
    "    if response.status_code == 200:\n",
    "        return response.text\n",
    "    else:\n",
    "        return None\n",
    "\n",
    "# 解析html(解析url),并返回每个电影的url\n",
    "def parse_index(html):\n",
    "    soup = BeautifulSoup(html, 'lxml')\n",
    "    # 拿到每个电影的url\n",
    "    # 使用类选择器\n",
    "    all_a = soup.select('.channel-detail.movie-item-title > a ')\n",
    "    all_url = []\n",
    "    # 每个a标签中的href属性添加到all_url\n",
    "    for a in all_a:\n",
    "        all_url.append(a.attrs['href'])\n",
    "    return ['http://maoyan.com{}'.format(url) for url in all_url]\n",
    "\n",
    "# 解析单个电影的url内容:电影名，电影类型，演员\n",
    "def parse_info(html):\n",
    "    # 因为返回的是列表，所以取第一个\n",
    "    soup = BeautifulSoup(html, 'lxml')\n",
    "    name = soup.select('h3.name')[0].text\n",
    "    types = soup.select('li.ellipsis')[0].text\n",
    "    actors = soup.select('li.celebrity.actor > div.info > a')\n",
    "\n",
    "    actors = format_actors(actors)\n",
    "    # 返回一个字典\n",
    "    return {\n",
    "        \"name\": name,\n",
    "        \"types\": types,\n",
    "        \"actors\": actors\n",
    "    }\n",
    "\n",
    "# 处理演员：去重 也就是格式化\n",
    "def format_actors(actors):\n",
    "    actor_set = set()\n",
    "    for actor in actors:\n",
    "        actor_set.add(actor.text.strip()) # 去空格\n",
    "    return actor_set\n",
    "\n",
    "def main():\n",
    "    index_url = 'http://maoyan.com/films'\n",
    "    html = get_html(index_url)\n",
    "    movie_urls = parse_index(html)\n",
    "    # print(movie_urls)\n",
    "    for movie_url in movie_urls:\n",
    "        movie_html = get_html(movie_url)\n",
    "        movie = parse_info(movie_html)\n",
    "        print(movie)\n",
    "\n",
    "if __name__ == '__main__':\n",
    "    main()"
   ]
  },
  {
   "cell_type": "code",
   "execution_count": null,
   "metadata": {},
   "outputs": [],
   "source": []
  }
 ],
 "metadata": {
  "kernelspec": {
   "display_name": "Python 3",
   "language": "python",
   "name": "python3"
  },
  "language_info": {
   "codemirror_mode": {
    "name": "ipython",
    "version": 3
   },
   "file_extension": ".py",
   "mimetype": "text/x-python",
   "name": "python",
   "nbconvert_exporter": "python",
   "pygments_lexer": "ipython3",
   "version": "3.6.4"
  }
 },
 "nbformat": 4,
 "nbformat_minor": 2
}
