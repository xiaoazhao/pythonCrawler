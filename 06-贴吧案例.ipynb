{
 "cells": [
  {
   "cell_type": "code",
   "execution_count": null,
   "metadata": {},
   "outputs": [
    {
     "name": "stdout",
     "output_type": "stream",
     "text": [
      "请输入要下载的内容：尚学堂\n",
      "请输入要下载多少页：12\n",
      "http://tieba.baidu.com/f?ie=utf-8&pn=50&kw=%E5%B0%9A%E5%AD%A6%E5%A0%82\n",
      "正在下载第1页.html\n"
     ]
    }
   ],
   "source": [
    "from urllib.request import Request,urlopen\n",
    "from urllib.parse import urlencode\n",
    "from fake_useragent import UserAgent\n",
    "\n",
    "# DEMO:爬取尚学堂贴吧，按照输入的关键字和第几页进行爬取，并放在存放在文件中\n",
    "\n",
    "#得到html\n",
    "def get_html(url):\n",
    "    headers={\n",
    "        \"User-Agent\":UserAgent().chrome\n",
    "    }\n",
    "    request = Request(url,headers=headers)\n",
    "    reponse = urlopen(request)\n",
    "    # print(reponse.read().decode())\n",
    "    return reponse.read()#.decode()\n",
    "\n",
    "#保存html  # path1路径 w:只写打开文件（打开一个文件只用于写入。如果该文件已存在则将其覆盖。如果该文件不存在，创建新文件。） utf-8：以怎样的编码打开文件 as f：打开后接口存为f（http://www.cnblogs.com/tianyiliang/p/8192703.html）\n",
    "def save_html(filename,html_bytes):\n",
    "    with open(filename,\"w\") as f:\n",
    "        # code = html_bytes.encode(encoding='utf-8')\n",
    "        # f.write(str(code))\n",
    "        f.write(str(html_bytes))\n",
    "\n",
    "def main():\n",
    "    content = input(\"请输入要下载的内容：\")\n",
    "    num = input(\"请输入要下载多少页：\")\n",
    "    base_url = \"http://tieba.baidu.com/f?ie=utf-8&{}\"\n",
    "    for pn in range(int(num)):\n",
    "        args={\n",
    "            \"pn\":pn + 50,# 每页50\n",
    "            \"kw\":content\n",
    "        }\n",
    "        filename = \"第\" + str(pn+1) + \"页.html\"\n",
    "        # get_html(\"http://tieba.baidu.com/f?ie=utf-8&\")\n",
    "        args = urlencode(args)\n",
    "        print(base_url.format(args))\n",
    "        print(\"正在下载\"+filename)\n",
    "        html_bytes = get_html(base_url.format(args))\n",
    "        print(html_bytes)\n",
    "        save_html(filename,html_bytes)\n",
    "\n",
    "# 相当于Python模拟的程序入口 理解： https://blog.csdn.net/yjk13703623757/article/details/77918633/\n",
    "if __name__ == '__main__':\n",
    "    main()\n",
    "    # save_html(\"1.html\", \"22\")  # 测试保存文件"
   ]
  },
  {
   "cell_type": "code",
   "execution_count": null,
   "metadata": {},
   "outputs": [],
   "source": []
  }
 ],
 "metadata": {
  "kernelspec": {
   "display_name": "Python 3",
   "language": "python",
   "name": "python3"
  },
  "language_info": {
   "codemirror_mode": {
    "name": "ipython",
    "version": 3
   },
   "file_extension": ".py",
   "mimetype": "text/x-python",
   "name": "python",
   "nbconvert_exporter": "python",
   "pygments_lexer": "ipython3",
   "version": "3.6.4"
  }
 },
 "nbformat": 4,
 "nbformat_minor": 2
}
