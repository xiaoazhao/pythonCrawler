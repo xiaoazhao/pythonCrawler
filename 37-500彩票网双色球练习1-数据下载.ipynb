{
 "cells": [
  {
   "cell_type": "code",
   "execution_count": 1,
   "metadata": {},
   "outputs": [
    {
     "name": "stdout",
     "output_type": "stream",
     "text": [
      "第19092 红球是：9-17-27-28-32-33 蓝球：8\n",
      "第19093 红球是：5-7-8-9-20-22 蓝球：2\n",
      "第19094 红球是：5-10-12-18-19-27 蓝球：6\n",
      "第19095 红球是：2-5-14-19-21-28 蓝球：1\n",
      "第19096 红球是：5-7-12-18-27-32 蓝球：11\n",
      "第19097 红球是：3-5-18-24-25-31 蓝球：9\n",
      "第19098 红球是：3-11-12-14-17-26 蓝球：9\n",
      "第19099 红球是：7-14-22-23-27-30 蓝球：8\n",
      "第19100 红球是：1-4-12-13-30-32 蓝球：8\n",
      "第19101 红球是：1-4-9-21-31-33 蓝球：5\n",
      "第19102 红球是：3-8-12-16-20-32 蓝球：12\n",
      "第19103 红球是：4-12-14-21-27-29 蓝球：12\n",
      "第19104 红球是：1-5-16-17-18-24 蓝球：10\n",
      "第19105 红球是：2-13-15-17-26-33 蓝球：1\n",
      "第19106 红球是：2-14-22-27-30-33 蓝球：14\n",
      "第19107 红球是：2-6-8-23-27-32 蓝球：2\n",
      "第19108 红球是：7-13-19-22-25-32 蓝球：13\n",
      "第19109 红球是：3-6-7-17-28-31 蓝球：10\n",
      "第19110 红球是：1-18-22-26-27-28 蓝球：8\n",
      "第19111 红球是：7-18-20-22-24-33 蓝球：1\n",
      "第19112 红球是：3-12-14-17-23-27 蓝球：1\n",
      "第19113 红球是：1-5-19-21-25-33 蓝球：15\n",
      "第19114 红球是：2-4-9-11-12-30 蓝球：1\n",
      "第19115 红球是：4-10-11-14-15-29 蓝球：5\n",
      "第19116 红球是：1-8-9-13-16-33 蓝球：1\n",
      "第19117 红球是：3-5-11-28-32-33 蓝球：1\n",
      "第19118 红球是：12-14-15-25-28-31 蓝球：4\n",
      "第19119 红球是：4-20-22-24-26-33 蓝球：7\n",
      "第19120 红球是：10-12-27-31-32-33 蓝球：3\n",
      "第19121 红球是：2-6-15-21-30-31 蓝球：2\n"
     ]
    }
   ],
   "source": [
    "import requests\n",
    "from fake_useragent import UserAgent\n",
    "from lxml import etree\n",
    "import pymysql\n",
    "# 彩票数据所在的url\n",
    "url = 'http://datachart.500.com/ssq/'\n",
    "# 提取数据\n",
    "response = requests.get(url, headers={\"User-Agent\": UserAgent().chrome})\n",
    "# 通过xpath去解析\n",
    "e = etree.HTML(response.text)\n",
    "# 第几期\n",
    "date_times = e.xpath('//tbody[@id=\"tdata\"]/tr/td[1]/text()')\n",
    "trs = e.xpath('//tbody[@id=\"tdata\"]/tr[not(@class)]') # 一期中所有的双色球号码，其中包含红球和篮球\n",
    "for date_time, tr in zip(date_times,trs):\n",
    "    # red_ball = tr.xpath('./td[@class=\"chartBall01\"]/text()')  # 解析红球\n",
    "    # blue_ball = tr.xpath('./td[@class=\"chartBall02\"]/text()')  # 解析红球\n",
    "    # 用空白符分隔开红球列表\n",
    "    # 提取红球\n",
    "    red_ball = '-'.join(tr.xpath('./td[@class=\"chartBall01\"]/text()'))\n",
    "    # 提取蓝球 蓝球只有一个\n",
    "    blue_ball = tr.xpath('./td[@class=\"chartBall02\"]/text()')[0]\n",
    "    print(\"第\" + date_time + \"红球是：\" + red_ball + \" 蓝球：\" + blue_ball)"
   ]
  },
  {
   "cell_type": "code",
   "execution_count": null,
   "metadata": {},
   "outputs": [],
   "source": []
  }
 ],
 "metadata": {
  "kernelspec": {
   "display_name": "Python 3",
   "language": "python",
   "name": "python3"
  },
  "language_info": {
   "codemirror_mode": {
    "name": "ipython",
    "version": 3
   },
   "file_extension": ".py",
   "mimetype": "text/x-python",
   "name": "python",
   "nbconvert_exporter": "python",
   "pygments_lexer": "ipython3",
   "version": "3.6.4"
  }
 },
 "nbformat": 4,
 "nbformat_minor": 2
}
