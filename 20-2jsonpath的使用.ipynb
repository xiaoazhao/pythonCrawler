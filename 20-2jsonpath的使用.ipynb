{
 "cells": [
  {
   "cell_type": "code",
   "execution_count": 1,
   "metadata": {},
   "outputs": [
    {
     "ename": "ModuleNotFoundError",
     "evalue": "No module named 'jsonpath'",
     "output_type": "error",
     "traceback": [
      "\u001b[1;31m---------------------------------------------------------------------------\u001b[0m",
      "\u001b[1;31mModuleNotFoundError\u001b[0m                       Traceback (most recent call last)",
      "\u001b[1;32m<ipython-input-1-a73829b96295>\u001b[0m in \u001b[0;36m<module>\u001b[1;34m()\u001b[0m\n\u001b[1;32m----> 1\u001b[1;33m \u001b[1;32mfrom\u001b[0m \u001b[0mjsonpath\u001b[0m \u001b[1;32mimport\u001b[0m \u001b[0mjsonpath\u001b[0m\u001b[1;33m\u001b[0m\u001b[0m\n\u001b[0m\u001b[0;32m      2\u001b[0m \u001b[1;32mimport\u001b[0m \u001b[0mrequests\u001b[0m\u001b[1;33m\u001b[0m\u001b[0m\n\u001b[0;32m      3\u001b[0m \u001b[1;32mfrom\u001b[0m \u001b[0mfake_useragent\u001b[0m \u001b[1;32mimport\u001b[0m \u001b[0mUserAgent\u001b[0m\u001b[1;33m\u001b[0m\u001b[0m\n\u001b[0;32m      4\u001b[0m \u001b[1;32mimport\u001b[0m \u001b[0mjson\u001b[0m\u001b[1;33m\u001b[0m\u001b[0m\n\u001b[0;32m      5\u001b[0m \u001b[1;33m\u001b[0m\u001b[0m\n",
      "\u001b[1;31mModuleNotFoundError\u001b[0m: No module named 'jsonpath'"
     ]
    }
   ],
   "source": [
    "from jsonpath import jsonpath\n",
    "import requests\n",
    "from fake_useragent import UserAgent\n",
    "import json\n",
    "\n",
    "# jsonpath 解析拉钩网json文件 只取出name和code\n",
    "'''\n",
    "JsonPath\n",
    "JsonPath 是一种信息抽取类库，是从JSON文档中抽取指定信息的工具，提供多种语言实现版本，包括：Javascript, Python， PHP 和 Java。\n",
    "JsonPath 对于 JSON 来说，相当于 XPATH 对于 XML。\n",
    "'''\n",
    "\n",
    "url = \"https://www.lagou.com/lbs/getAllCitySearchLabels.json\"\n",
    "headers = {\n",
    "    \"User-Agent\": UserAgent().chrome\n",
    "}\n",
    "response = requests.get(url, headers=headers)\n",
    "\n",
    "names = jsonpath(json.loads(response.text), '$..name') # 参数二是jsonpath的表达式 参数一：是json对象。response.text是str\n",
    "codes = jsonpath(json.loads(response.text), '$..code') # $:根节点| ..:就是不管位置，选择所有符合条件的条件\n",
    "print(names)\n",
    "print(codes)"
   ]
  },
  {
   "cell_type": "code",
   "execution_count": null,
   "metadata": {},
   "outputs": [],
   "source": []
  }
 ],
 "metadata": {
  "kernelspec": {
   "display_name": "Python 3",
   "language": "python",
   "name": "python3"
  },
  "language_info": {
   "codemirror_mode": {
    "name": "ipython",
    "version": 3
   },
   "file_extension": ".py",
   "mimetype": "text/x-python",
   "name": "python",
   "nbconvert_exporter": "python",
   "pygments_lexer": "ipython3",
   "version": "3.6.4"
  }
 },
 "nbformat": 4,
 "nbformat_minor": 2
}
